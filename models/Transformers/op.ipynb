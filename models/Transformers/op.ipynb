{
 "cells": [
  {
   "cell_type": "code",
   "execution_count": 8,
   "metadata": {},
   "outputs": [
    {
     "name": "stdout",
     "output_type": "stream",
     "text": [
      "tensor([[[5.2184e-01, 4.2307e-01, 1.1797e-02, 4.2784e-02],\n",
      "         [6.1671e-01, 1.6867e-01, 2.0478e-01, 6.6302e-02]],\n",
      "\n",
      "        [[4.7303e-01, 2.1696e-05, 7.3749e-01, 9.2057e-01],\n",
      "         [7.2311e-01, 7.3123e-01, 5.0606e-01, 2.1894e-01]]])\n",
      "tensor([[[0.4763, 0.5633, 0.4519, 0.4941],\n",
      "         [0.5237, 0.4367, 0.5481, 0.5059]],\n",
      "\n",
      "        [[0.4378, 0.3249, 0.5576, 0.6685],\n",
      "         [0.5622, 0.6751, 0.4424, 0.3315]]])\n",
      "torch.Size([2, 2, 4])\n",
      "tensor(8.)\n",
      "tensor([[[0.5122, 0.6042, 0.3261, 0.2936],\n",
      "         [0.4734, 0.3630, 0.4252, 0.4619]],\n",
      "\n",
      "        [[0.4878, 0.3958, 0.6739, 0.7064],\n",
      "         [0.5266, 0.6370, 0.5748, 0.5381]]])\n",
      "torch.Size([2, 2, 4])\n",
      "tensor(8.)\n"
     ]
    }
   ],
   "source": [
    "import torch\n",
    "from torch import nn\n",
    "\n",
    "SM = nn.Softmax(-2)\n",
    "\n",
    "input=torch.rand([2,2,4], dtype=torch.float32)\n",
    "print(input)\n",
    "\n",
    "output=SM(input)\n",
    "print(output)\n",
    "print(output.shape)\n",
    "\n",
    "print(torch.sum(output))\n",
    "\n",
    "\n",
    "SM2d = nn.Softmax2d()\n",
    "output=SM2d(input)\n",
    "print(output)\n",
    "print(output.shape)\n",
    "\n",
    "print(torch.sum(output))\n"
   ]
  }
 ],
 "metadata": {
  "kernelspec": {
   "display_name": "torch-dev",
   "language": "python",
   "name": "python3"
  },
  "language_info": {
   "codemirror_mode": {
    "name": "ipython",
    "version": 3
   },
   "file_extension": ".py",
   "mimetype": "text/x-python",
   "name": "python",
   "nbconvert_exporter": "python",
   "pygments_lexer": "ipython3",
   "version": "3.11.9"
  }
 },
 "nbformat": 4,
 "nbformat_minor": 2
}
